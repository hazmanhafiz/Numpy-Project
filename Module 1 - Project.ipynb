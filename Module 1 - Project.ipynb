{
 "cells": [
  {
   "cell_type": "code",
   "execution_count": 1,
   "metadata": {
    "collapsed": false
   },
   "outputs": [],
   "source": [
    "import numpy as np"
   ]
  },
  {
   "cell_type": "code",
   "execution_count": null,
   "metadata": {
    "collapsed": true
   },
   "outputs": [],
   "source": []
  },
  {
   "cell_type": "code",
   "execution_count": 15,
   "metadata": {
    "collapsed": false
   },
   "outputs": [
    {
     "data": {
      "text/plain": [
       "(3, 3)"
      ]
     },
     "execution_count": 15,
     "metadata": {},
     "output_type": "execute_result"
    }
   ],
   "source": [
    "M=array([[0,1,2],[3,4,5],[6,7,8]])\n",
    "M.size\n",
    "shape(M)\n"
   ]
  },
  {
   "cell_type": "code",
   "execution_count": null,
   "metadata": {
    "collapsed": true
   },
   "outputs": [],
   "source": []
  },
  {
   "cell_type": "raw",
   "metadata": {},
   "source": [
    "print(sum(range(5),-1))\n",
    "from numpy import *\n",
    "print(sum(range(5),-1))"
   ]
  },
  {
   "cell_type": "code",
   "execution_count": 14,
   "metadata": {
    "collapsed": false,
    "scrolled": true
   },
   "outputs": [
    {
     "name": "stderr",
     "output_type": "stream",
     "text": [
      "/Users/hazmanhafiz/anaconda/lib/python3.6/site-packages/ipykernel/__main__.py:1: RuntimeWarning: invalid value encountered in sqrt\n",
      "  if __name__ == '__main__':\n"
     ]
    },
    {
     "data": {
      "text/plain": [
       "False"
      ]
     },
     "execution_count": 14,
     "metadata": {},
     "output_type": "execute_result"
    }
   ],
   "source": [
    "np.sqrt(-1)==np.emath.sqrt(-1)"
   ]
  },
  {
   "cell_type": "code",
   "execution_count": 17,
   "metadata": {
    "collapsed": false
   },
   "outputs": [
    {
     "data": {
      "text/plain": [
       "array([[ 0.56636737,  0.34052731,  0.66164833,  0.0658295 ,  0.00960587],\n",
       "       [ 0.94240054,  0.38045922,  0.0769453 ,  0.86039151,  0.70949886],\n",
       "       [ 0.25396636,  0.32364005,  0.58812792,  0.05647695,  0.53215574],\n",
       "       [ 0.56338421,  0.33880242,  0.98342425,  0.7032436 ,  0.75263374],\n",
       "       [ 0.66336517,  0.2807877 ,  0.77627311,  0.06068414,  0.26062352],\n",
       "       [ 0.24508761,  0.61998288,  0.12169786,  0.95016245,  0.54589562]])"
      ]
     },
     "execution_count": 17,
     "metadata": {},
     "output_type": "execute_result"
    }
   ],
   "source": [
    "M=random.rand(6,5)\n",
    "M"
   ]
  },
  {
   "cell_type": "code",
   "execution_count": 20,
   "metadata": {
    "collapsed": false
   },
   "outputs": [
    {
     "data": {
      "text/plain": [
       "0.47446963625860455"
      ]
     },
     "execution_count": 20,
     "metadata": {},
     "output_type": "execute_result"
    }
   ],
   "source": [
    "mean(M)"
   ]
  },
  {
   "cell_type": "code",
   "execution_count": 26,
   "metadata": {
    "collapsed": false
   },
   "outputs": [
    {
     "data": {
      "text/plain": [
       "array([[ 0.07376692,  0.8573397 ,  0.5656365 ],\n",
       "       [ 0.78405305,  0.46657947,  0.18848138],\n",
       "       [ 0.71876006,  0.23698626,  0.63572626],\n",
       "       [ 0.9377439 ,  0.10111929,  0.1436681 ],\n",
       "       [ 0.73328473,  0.66280675,  0.1590028 ]])"
      ]
     },
     "execution_count": 26,
     "metadata": {},
     "output_type": "execute_result"
    }
   ],
   "source": [
    "M=random.rand(5,3)\n",
    "N=random.rand(3,2)\n",
    "\n",
    "M"
   ]
  },
  {
   "cell_type": "code",
   "execution_count": 25,
   "metadata": {
    "collapsed": false
   },
   "outputs": [
    {
     "data": {
      "text/plain": [
       "array([[ 0.26692621,  0.78554191],\n",
       "       [ 0.24643082,  0.26694121],\n",
       "       [ 0.15889563,  0.80872275]])"
      ]
     },
     "execution_count": 25,
     "metadata": {},
     "output_type": "execute_result"
    }
   ],
   "source": [
    "N"
   ]
  },
  {
   "cell_type": "code",
   "execution_count": 27,
   "metadata": {
    "collapsed": false
   },
   "outputs": [
    {
     "data": {
      "text/plain": [
       "array([[ 0.71406413,  1.12989786],\n",
       "       [ 0.45501669,  1.01688215],\n",
       "       [ 0.51031542,  1.05390035],\n",
       "       [ 0.26291855,  0.77445533],\n",
       "       [ 0.54046796,  1.13437249]])"
      ]
     },
     "execution_count": 27,
     "metadata": {},
     "output_type": "execute_result"
    }
   ],
   "source": [
    "P=dot(M,N)\n",
    "\n",
    "P"
   ]
  },
  {
   "cell_type": "code",
   "execution_count": 29,
   "metadata": {
    "collapsed": false
   },
   "outputs": [
    {
     "data": {
      "text/plain": [
       "(5, 2)"
      ]
     },
     "execution_count": 29,
     "metadata": {},
     "output_type": "execute_result"
    }
   ],
   "source": [
    "shape(P)"
   ]
  },
  {
   "cell_type": "code",
   "execution_count": 37,
   "metadata": {
    "collapsed": false
   },
   "outputs": [
    {
     "data": {
      "text/plain": [
       "array([[ 0.76319758,  0.52341124,  0.86344744,  0.17339095,  0.84206958,\n",
       "         0.22097757,  0.13726333,  0.35729104,  0.6826537 ,  0.58673731]])"
      ]
     },
     "execution_count": 37,
     "metadata": {},
     "output_type": "execute_result"
    }
   ],
   "source": [
    "v=random.rand(1,10)\n",
    "v\n"
   ]
  },
  {
   "cell_type": "code",
   "execution_count": 33,
   "metadata": {
    "collapsed": false
   },
   "outputs": [
    {
     "data": {
      "text/plain": [
       "10"
      ]
     },
     "execution_count": 33,
     "metadata": {},
     "output_type": "execute_result"
    }
   ],
   "source": [
    "v.size"
   ]
  },
  {
   "cell_type": "code",
   "execution_count": 36,
   "metadata": {
    "collapsed": false
   },
   "outputs": [
    {
     "data": {
      "text/plain": [
       "array([[  7.52885539e-04,   1.81920949e-01,   1.96970147e-01,\n",
       "          3.61445570e-01,   4.53900289e-01,   4.91335387e-01,\n",
       "          7.61227034e-01,   7.92320949e-01,   8.64047032e-01,\n",
       "          8.98573449e-01]])"
      ]
     },
     "execution_count": 36,
     "metadata": {},
     "output_type": "execute_result"
    }
   ],
   "source": [
    "sort(v)"
   ]
  },
  {
   "cell_type": "code",
   "execution_count": 38,
   "metadata": {
    "collapsed": false
   },
   "outputs": [
    {
     "data": {
      "text/plain": [
       "array([[ 0.25743543,  0.62418829,  0.13097386,  0.43505777,  0.07427136,\n",
       "         0.83344321,  0.59143403,  0.6538237 ,  0.00128402,  0.54451385,\n",
       "         0.01688113,  0.96415884,  0.62279083,  0.82834509,  0.09611914,\n",
       "         0.93591401,  0.78666771,  0.47505596,  0.48784379,  0.39446626,\n",
       "         0.56971267,  0.56205744,  0.40784923,  0.3373053 ,  0.27377554,\n",
       "         0.57916518,  0.3225808 ,  0.2528085 ,  0.52003103,  0.24751252,\n",
       "         0.20467334,  0.59285289,  0.97517   ,  0.25979246,  0.01324468,\n",
       "         0.50221378,  0.17380187,  0.15279567,  0.60149095,  0.66288081,\n",
       "         0.71893837,  0.04496495,  0.76104879,  0.71804742,  0.32632887,\n",
       "         0.83215072,  0.725263  ,  0.42980119,  0.8045174 ,  0.72218751,\n",
       "         0.86417525,  0.76356935,  0.14924499,  0.574845  ,  0.47003699,\n",
       "         0.86770408,  0.0928428 ,  0.77450547,  0.77524553,  0.71794278,\n",
       "         0.84510235,  0.95391772,  0.4661488 ,  0.32565661,  0.10119771,\n",
       "         0.06602178,  0.48012505,  0.80427831,  0.15319859,  0.89902037,\n",
       "         0.21462793,  0.37605779,  0.54526088,  0.73003395,  0.55124798,\n",
       "         0.01570514,  0.54367656,  0.03804239,  0.10025139,  0.25370967,\n",
       "         0.40456388,  0.38267401,  0.71525633,  0.56907344,  0.63305224,\n",
       "         0.80336712,  0.47327036,  0.68569909,  0.61144066,  0.86293938,\n",
       "         0.68176781,  0.69491269,  0.45511855,  0.35116777,  0.94911016,\n",
       "         0.06160052,  0.18346659,  0.30133836,  0.15628836,  0.57308084]])"
      ]
     },
     "execution_count": 38,
     "metadata": {},
     "output_type": "execute_result"
    }
   ],
   "source": [
    "v1=random.rand(1,100)\n",
    "v1"
   ]
  },
  {
   "cell_type": "code",
   "execution_count": 39,
   "metadata": {
    "collapsed": false
   },
   "outputs": [
    {
     "data": {
      "text/plain": [
       "array([[ 0.25743543,  0.62418829,  0.13097386,  0.43505777,  0.07427136,\n",
       "         0.83344321,  0.59143403,  0.6538237 ,  0.00128402,  0.54451385,\n",
       "         0.01688113,  0.96415884,  0.62279083,  0.82834509,  0.09611914,\n",
       "         0.93591401,  0.78666771,  0.47505596,  0.48784379,  0.39446626,\n",
       "         0.56971267,  0.56205744,  0.40784923,  0.3373053 ,  0.27377554,\n",
       "         0.57916518,  0.3225808 ,  0.2528085 ,  0.52003103,  0.24751252,\n",
       "         0.20467334,  0.59285289,  0.97517   ,  0.25979246,  0.01324468,\n",
       "         0.50221378,  0.17380187,  0.15279567,  0.60149095,  0.66288081,\n",
       "         0.71893837,  0.04496495,  0.76104879,  0.71804742,  0.32632887,\n",
       "         0.83215072,  0.725263  ,  0.42980119,  0.8045174 ,  0.72218751,\n",
       "         0.86417525,  0.76356935,  0.14924499,  0.574845  ,  0.47003699,\n",
       "         0.86770408,  0.0928428 ,  0.77450547,  0.77524553,  0.71794278,\n",
       "         0.84510235,  0.95391772,  0.4661488 ,  0.32565661,  0.10119771,\n",
       "         0.06602178,  0.48012505,  0.80427831,  0.15319859,  0.89902037,\n",
       "         0.21462793,  0.37605779,  0.54526088,  0.73003395,  0.55124798,\n",
       "         0.01570514,  0.54367656,  0.03804239,  0.10025139,  0.25370967,\n",
       "         0.40456388,  0.38267401,  0.71525633,  0.56907344,  0.63305224,\n",
       "         0.80336712,  0.47327036,  0.68569909,  0.61144066,  0.86293938,\n",
       "         0.68176781,  0.69491269,  0.45511855,  0.35116777,  0.94911016,\n",
       "         0.06160052,  0.18346659,  0.30133836,  0.15628836,  0.57308084]])"
      ]
     },
     "execution_count": 39,
     "metadata": {},
     "output_type": "execute_result"
    }
   ],
   "source": [
    "sort(v1)\n",
    "v1"
   ]
  },
  {
   "cell_type": "code",
   "execution_count": 47,
   "metadata": {
    "collapsed": false
   },
   "outputs": [
    {
     "data": {
      "text/plain": [
       "array([[  2.57435429e-01,   6.24188289e-01,   1.30973857e-01,\n",
       "          4.35057768e-01,   7.42713637e-02,   8.33443206e-01,\n",
       "          5.91434026e-01,   6.53823704e-01,   1.28402283e-03,\n",
       "          5.44513849e-01,   1.68811327e-02,   9.64158837e-01,\n",
       "          6.22790828e-01,   8.28345089e-01,   9.61191386e-02,\n",
       "          9.35914006e-01,   7.86667710e-01,   4.75055956e-01,\n",
       "          4.87843792e-01,   3.94466257e-01,   5.69712673e-01,\n",
       "          5.62057442e-01,   4.07849228e-01,   3.37305303e-01,\n",
       "          2.73775540e-01,   5.79165185e-01,   3.22580805e-01,\n",
       "          2.52808504e-01,   5.20031034e-01,   2.47512517e-01,\n",
       "          2.04673337e-01,   5.92852894e-01,   9.75169996e-01,\n",
       "          2.59792460e-01,   1.32446822e-02,   5.02213781e-01,\n",
       "          1.73801866e-01,   1.52795674e-01,   6.01490947e-01,\n",
       "          6.62880811e-01,   7.18938370e-01,   4.49649471e-02,\n",
       "          7.61048786e-01,   7.18047416e-01,   3.26328866e-01,\n",
       "          8.32150716e-01,   7.25262996e-01,   4.29801189e-01,\n",
       "          8.04517398e-01,   7.22187511e-01,   8.64175253e-01,\n",
       "          7.63569347e-01,   1.49244986e-01,   5.74845003e-01,\n",
       "          4.70036990e-01,   8.67704078e-01,   9.28428004e-02,\n",
       "          7.74505470e-01,   7.75245527e-01,   7.17942783e-01,\n",
       "          8.45102347e-01,   9.53917722e-01,   4.66148796e-01,\n",
       "          3.25656612e-01,   1.01197705e-01,   6.60217773e-02,\n",
       "          4.80125049e-01,   8.04278312e-01,   1.53198591e-01,\n",
       "          8.99020366e-01,   2.14627930e-01,   3.76057793e-01,\n",
       "          5.45260881e-01,   7.30033952e-01,   5.51247975e-01,\n",
       "          1.57051361e-02,   5.43676564e-01,   3.80423858e-02,\n",
       "          1.00251389e-01,   2.53709671e-01,   4.04563884e-01,\n",
       "          3.82674005e-01,   7.15256335e-01,   5.69073440e-01,\n",
       "          6.33052237e-01,   8.03367116e-01,   4.73270365e-01,\n",
       "          6.85699091e-01,   6.11440661e-01,   8.62939378e-01,\n",
       "          6.81767806e-01,   6.94912689e-01,   4.55118546e-01,\n",
       "          3.51167773e-01,   9.49110163e-01,   6.16005191e-02,\n",
       "          1.83466592e-01,   3.01338358e-01,   1.56288357e-01,\n",
       "          4.00000000e+00]])"
      ]
     },
     "execution_count": 47,
     "metadata": {},
     "output_type": "execute_result"
    }
   ],
   "source": [
    "v1[0,99]=4\n",
    "v1"
   ]
  },
  {
   "cell_type": "code",
   "execution_count": 48,
   "metadata": {
    "collapsed": false
   },
   "outputs": [
    {
     "data": {
      "text/plain": [
       "array([ 0.83102697,  0.17220877,  0.9609427 ,  0.52949187,  0.42796821])"
      ]
     },
     "execution_count": 48,
     "metadata": {},
     "output_type": "execute_result"
    }
   ],
   "source": [
    "A=random.rand(5,5)\n",
    "diag(A)"
   ]
  },
  {
   "cell_type": "code",
   "execution_count": 60,
   "metadata": {
    "collapsed": false,
    "scrolled": true
   },
   "outputs": [
    {
     "data": {
      "text/plain": [
       "array([[ 1.,  0.,  0.],\n",
       "       [ 0.,  2.,  0.],\n",
       "       [ 0.,  0.,  3.]])"
      ]
     },
     "execution_count": 60,
     "metadata": {},
     "output_type": "execute_result"
    }
   ],
   "source": [
    "A=array([[1,2],[3,4],[5,6]])\n",
    "B=linalg.inv(B)\n",
    "B"
   ]
  },
  {
   "cell_type": "code",
   "execution_count": null,
   "metadata": {
    "collapsed": true
   },
   "outputs": [],
   "source": []
  },
  {
   "cell_type": "code",
   "execution_count": null,
   "metadata": {
    "collapsed": true
   },
   "outputs": [],
   "source": []
  }
 ],
 "metadata": {
  "kernelspec": {
   "display_name": "Python 3",
   "language": "python",
   "name": "python3"
  },
  "language_info": {
   "codemirror_mode": {
    "name": "ipython",
    "version": 3
   },
   "file_extension": ".py",
   "mimetype": "text/x-python",
   "name": "python",
   "nbconvert_exporter": "python",
   "pygments_lexer": "ipython3",
   "version": "3.6.0"
  }
 },
 "nbformat": 4,
 "nbformat_minor": 2
}
